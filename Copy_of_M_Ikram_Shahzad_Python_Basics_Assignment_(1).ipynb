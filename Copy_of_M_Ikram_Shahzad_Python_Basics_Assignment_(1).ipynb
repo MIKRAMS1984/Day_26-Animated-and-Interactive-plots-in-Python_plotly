{
  "cells": [
    {
      "cell_type": "markdown",
      "metadata": {
        "id": "view-in-github",
        "colab_type": "text"
      },
      "source": [
        "<a href=\"https://colab.research.google.com/github/MIKRAMS1984/Day_26-Animated-and-Interactive-plots-in-Python_plotly/blob/main/Copy_of_M_Ikram_Shahzad_Python_Basics_Assignment_(1).ipynb\" target=\"_parent\"><img src=\"https://colab.research.google.com/assets/colab-badge.svg\" alt=\"Open In Colab\"/></a>"
      ]
    },
    {
      "cell_type": "markdown",
      "id": "4745298a",
      "metadata": {
        "id": "4745298a"
      },
      "source": [
        "# 📝 Assignment: Python Basics Practice\n",
        "\n",
        "Each task below aligns with the examples covered in the lecture. Complete each task in the provided cell."
      ]
    },
    {
      "cell_type": "markdown",
      "id": "4616ee8a",
      "metadata": {
        "id": "4616ee8a"
      },
      "source": [
        "### ✅ Task 1: Indentation Check\n",
        "Write a Python script that checks if a number is positive. If yes, print:\n",
        "- `\"This is a positive number\"`\n",
        "- Print `\"Check complete\"` three times using a loop."
      ]
    },
    {
      "cell_type": "code",
      "execution_count": null,
      "id": "08eb035f",
      "metadata": {
        "colab": {
          "base_uri": "https://localhost:8080/"
        },
        "id": "08eb035f",
        "outputId": "c1b18cb2-a797-4fcc-e0bf-89729fc49ee4"
      },
      "outputs": [
        {
          "output_type": "stream",
          "name": "stdout",
          "text": [
            "Enter a number: 5\n",
            "This is a positive number\n",
            "Check complete\n",
            "Check complete\n",
            "Check complete\n"
          ]
        }
      ],
      "source": [
        "number = int(input(\"Enter a number: \"))\n",
        "if number > 0:\n",
        "    print(\"This is a positive number\")\n",
        "    for i in range(3):\n",
        "        print(\"Check complete\")\n"
      ]
    },
    {
      "cell_type": "markdown",
      "id": "4badda10",
      "metadata": {
        "id": "4badda10"
      },
      "source": [
        "### ✅ Task 2: Simple Print Statements\n",
        "Print the following using separate print statements:\n",
        "- `\"Learning Python!\"`\n",
        "- Your favorite number\n",
        "- Your height in meters"
      ]
    },
    {
      "cell_type": "code",
      "execution_count": null,
      "id": "1020d57a",
      "metadata": {
        "colab": {
          "base_uri": "https://localhost:8080/"
        },
        "id": "1020d57a",
        "outputId": "3b15c4e3-a768-4958-a6b8-ad3a1a1e5299"
      },
      "outputs": [
        {
          "output_type": "stream",
          "name": "stdout",
          "text": [
            "Learning Python!\n",
            "Favorite Number =  10\n",
            "Height in Meters =  1.752 Meters\n"
          ]
        }
      ],
      "source": [
        "print(\"Learning Python!\")\n",
        "print(\"Favorite Number = \", 10)\n",
        "print(\"Height in Meters = \", 1.752, \"Meters\")"
      ]
    },
    {
      "cell_type": "markdown",
      "id": "1f82597d",
      "metadata": {
        "id": "1f82597d"
      },
      "source": [
        "### ✅ Task 3: Combine Variables in Print\n",
        "Create two variables:\n",
        "- `city` with your city name\n",
        "- `year` with the current year\n",
        "Now print:\n",
        "`\"I live in [city] and the year is [year].\"`"
      ]
    },
    {
      "cell_type": "code",
      "execution_count": null,
      "id": "aa4cfe62",
      "metadata": {
        "colab": {
          "base_uri": "https://localhost:8080/"
        },
        "id": "aa4cfe62",
        "outputId": "1a7e04d8-beca-4165-8843-6190ef0400e7"
      },
      "outputs": [
        {
          "output_type": "stream",
          "name": "stdout",
          "text": [
            "I live in Islamabad and the year is 2025.\n"
          ]
        }
      ],
      "source": [
        "City = \"Islamabad\"\n",
        "Year = 2025\n",
        "print(f\"I live in {City} and the year is {Year}.\")"
      ]
    },
    {
      "cell_type": "markdown",
      "id": "61b07cb3",
      "metadata": {
        "id": "61b07cb3"
      },
      "source": [
        "### ✅ Task 4: Add Comments\n",
        "Write a short Python script that:\n",
        "- Contains a single-line comment\n",
        "- Includes a multi-line comment describing the script\n",
        "- Then prints `\"Comment demo done\"`"
      ]
    },
    {
      "cell_type": "code",
      "execution_count": null,
      "id": "8c33c0ad",
      "metadata": {
        "colab": {
          "base_uri": "https://localhost:8080/"
        },
        "id": "8c33c0ad",
        "outputId": "ea62362c-adec-4112-c218-e8d69eb85ddb"
      },
      "outputs": [
        {
          "output_type": "stream",
          "name": "stdout",
          "text": [
            "Comment demo done\n"
          ]
        }
      ],
      "source": [
        "# This is a single-line comment\n",
        "\n",
        "\"\"\"\n",
        "This is a multi-line comment.\n",
        "This script demonstrates the use of single-line and multi-line comments in Python.\n",
        "It will print a message to the console.\n",
        "\"\"\"\n",
        "\n",
        "print(\"Comment demo done\")\n"
      ]
    },
    {
      "cell_type": "markdown",
      "id": "43648bee",
      "metadata": {
        "id": "43648bee"
      },
      "source": [
        "### ✅ Task 5: Float Variable\n",
        "Assign the value `9.81` to a variable named `gravity`. Print the value and its type."
      ]
    },
    {
      "cell_type": "code",
      "execution_count": null,
      "id": "73fc27ff",
      "metadata": {
        "colab": {
          "base_uri": "https://localhost:8080/"
        },
        "id": "73fc27ff",
        "outputId": "3348b50f-18ba-4c2b-b4f9-418a5c002c64"
      },
      "outputs": [
        {
          "output_type": "stream",
          "name": "stdout",
          "text": [
            "9.81\n",
            "<class 'float'>\n",
            "Gravity VAlue =  9.81 <class 'float'>\n"
          ]
        }
      ],
      "source": [
        "gravity = 9.81\n",
        "print(gravity)\n",
        "print(type(gravity))\n",
        "print(\"Gravity VAlue = \", gravity, type(gravity))"
      ]
    },
    {
      "cell_type": "markdown",
      "id": "1f3b7c68",
      "metadata": {
        "id": "1f3b7c68"
      },
      "source": [
        "### ✅ Task 6: String Variable\n",
        "Create a variable `language = \"Python\"` Print its value and type."
      ]
    },
    {
      "cell_type": "code",
      "execution_count": null,
      "id": "2a9727cb",
      "metadata": {
        "colab": {
          "base_uri": "https://localhost:8080/"
        },
        "id": "2a9727cb",
        "outputId": "6a4899e9-177c-4917-daf0-090c8ce778e4"
      },
      "outputs": [
        {
          "output_type": "stream",
          "name": "stdout",
          "text": [
            "Python\n",
            "<class 'str'>\n",
            "Language =  Python <class 'str'>\n"
          ]
        }
      ],
      "source": [
        "language = \"Python\"\n",
        "print(language)\n",
        "print(type(language))\n",
        "print(\"Language = \", language, type(language))"
      ]
    },
    {
      "cell_type": "markdown",
      "id": "c7f8a434",
      "metadata": {
        "id": "c7f8a434"
      },
      "source": [
        "### ✅ Task 7: Boolean Variable\n",
        "Set a variable `is_coding_fun = True` Print its value and type."
      ]
    },
    {
      "cell_type": "code",
      "execution_count": null,
      "id": "92fe8a9e",
      "metadata": {
        "colab": {
          "base_uri": "https://localhost:8080/"
        },
        "id": "92fe8a9e",
        "outputId": "08926a0b-df98-4cf5-8708-7345474ff53b"
      },
      "outputs": [
        {
          "output_type": "stream",
          "name": "stdout",
          "text": [
            "True\n",
            "<class 'bool'>\n",
            "Is Coding Fun =  True <class 'bool'>\n"
          ]
        }
      ],
      "source": [
        "is_coding_fun = True\n",
        "print(is_coding_fun)\n",
        "print(type(is_coding_fun))\n",
        "print(\"Is Coding Fun = \", is_coding_fun, type(is_coding_fun))"
      ]
    },
    {
      "cell_type": "markdown",
      "id": "6c911d63",
      "metadata": {
        "id": "6c911d63"
      },
      "source": [
        "### ✅ Task 8: None Type\n",
        "Create a variable `response = None` Print the variable and its type."
      ]
    },
    {
      "cell_type": "code",
      "execution_count": null,
      "id": "86bdcf7d",
      "metadata": {
        "colab": {
          "base_uri": "https://localhost:8080/"
        },
        "id": "86bdcf7d",
        "outputId": "e00cc032-89c4-4d86-82f0-8ab8c38fcff4"
      },
      "outputs": [
        {
          "output_type": "stream",
          "name": "stdout",
          "text": [
            "None\n",
            "<class 'NoneType'>\n",
            "Response =  None <class 'NoneType'>\n"
          ]
        }
      ],
      "source": [
        "response = None\n",
        "print(response)\n",
        "print(type(response))\n",
        "print(\"Response = \", response, type(response))"
      ]
    },
    {
      "cell_type": "markdown",
      "id": "a34f8d36",
      "metadata": {
        "id": "a34f8d36"
      },
      "source": [
        "### ✅ Task 9: Arithmetic Practice\n",
        "Create two variables `x = 8`, `y = 3`\n",
        "Print the result of all these operations:\n",
        "- Addition\n",
        "- Subtraction\n",
        "- Multiplication\n",
        "- Division\n",
        "- Modulus\n",
        "- Floor division\n",
        "- Exponentiation"
      ]
    },
    {
      "cell_type": "code",
      "execution_count": null,
      "id": "29fd8c7f",
      "metadata": {
        "colab": {
          "base_uri": "https://localhost:8080/"
        },
        "id": "29fd8c7f",
        "outputId": "bb4047c1-41d4-4f09-a2f7-f79a56f90ab4"
      },
      "outputs": [
        {
          "output_type": "stream",
          "name": "stdout",
          "text": [
            "Addition =        11\n",
            "Subtraction =     5\n",
            "Multiplication =  24\n",
            "Division =        2.67\n",
            "Modulus =         2\n",
            "Floor Division =  2\n",
            "Exponentiation =  512\n"
          ]
        }
      ],
      "source": [
        "x = 8\n",
        "y = 3\n",
        "print(\"Addition =       \", x + y)\n",
        "print(\"Subtraction =    \", x - y)\n",
        "print(\"Multiplication = \", x * y)\n",
        "print(\"Division =        {:.2f}\".format(x / y))\n",
        "print(\"Modulus =        \", x % y)\n",
        "print(\"Floor Division = \", x // y)\n",
        "print(\"Exponentiation = \", x ** y)"
      ]
    },
    {
      "cell_type": "markdown",
      "id": "4bb8cacc",
      "metadata": {
        "id": "4bb8cacc"
      },
      "source": [
        "### ✅ Task 10: Comparison Operators\n",
        "Set two variables `a = 15`, `b = 10`\n",
        "Print the results for:\n",
        "- `a == b`\n",
        "- `a != b`\n",
        "- `a > b`\n",
        "- `a < b`\n",
        "- `a >= b`\n",
        "- `b <= a`\n",
        "Also compare two strings `\"cat\"` and `\"dog\"` using `>` and `<`."
      ]
    },
    {
      "cell_type": "code",
      "execution_count": null,
      "id": "f24b775c",
      "metadata": {
        "colab": {
          "base_uri": "https://localhost:8080/"
        },
        "id": "f24b775c",
        "outputId": "0b926e8c-74e8-4552-e375-413ff7b98f86"
      },
      "outputs": [
        {
          "output_type": "stream",
          "name": "stdout",
          "text": [
            "a == b =  False\n",
            "a != b =  True\n",
            "a > b  =  True\n",
            "a < b  =  False\n",
            "a >= b =  True\n"
          ]
        }
      ],
      "source": [
        "a = 15\n",
        "b = 10\n",
        "print(\"a == b = \", a == b)\n",
        "print(\"a != b = \", a != b)\n",
        "print(\"a > b  = \", a > b)\n",
        "print(\"a < b  = \", a < b)\n",
        "print(\"a >= b = \", a >= b)"
      ]
    },
    {
      "cell_type": "markdown",
      "id": "1bc53612",
      "metadata": {
        "id": "1bc53612"
      },
      "source": [
        "### ✅ Task 11: Type Conversion\n",
        "Convert the integer `num = 10` into a float and a string.\n",
        "Print both converted values and their types."
      ]
    },
    {
      "cell_type": "code",
      "execution_count": null,
      "id": "79cf795c",
      "metadata": {
        "colab": {
          "base_uri": "https://localhost:8080/"
        },
        "id": "79cf795c",
        "outputId": "9c997792-9c34-426f-8068-48e0876dda8a"
      },
      "outputs": [
        {
          "output_type": "stream",
          "name": "stdout",
          "text": [
            "Integer Value =  10 <class 'int'>\n",
            "Float Value   =  10.0 <class 'float'>\n",
            "String Value  =  10 <class 'str'>\n"
          ]
        }
      ],
      "source": [
        "num = 10\n",
        "float_num = float(num)\n",
        "string_num = str(num)\n",
        "print(\"Integer Value = \", num, type(num))\n",
        "print(\"Float Value   = \", float_num, type(float_num))\n",
        "print(\"String Value  = \", string_num, type(string_num))"
      ]
    },
    {
      "cell_type": "markdown",
      "id": "17749d5b",
      "metadata": {
        "id": "17749d5b"
      },
      "source": [
        "### ✅ Task 12: User Input\n",
        "Write a program that asks the user to enter their favorite color and number.\n",
        "Print a sentence like: `\"Your favorite color is blue and your number is 7\"`."
      ]
    },
    {
      "cell_type": "code",
      "execution_count": null,
      "id": "9aab2151",
      "metadata": {
        "colab": {
          "base_uri": "https://localhost:8080/"
        },
        "id": "9aab2151",
        "outputId": "8d336686-c5b3-4a42-b4d5-550f825a3570"
      },
      "outputs": [
        {
          "output_type": "stream",
          "name": "stdout",
          "text": [
            "Enter your favorite color: Black\n",
            "Enter your favorite number: 1\n",
            "Your favorite color is Black and your number is 1.\n"
          ]
        }
      ],
      "source": [
        "color = input(\"Enter your favorite color: \")\n",
        "number = input(\"Enter your favorite number: \")\n",
        "print(f\"Your favorite color is {color} and your number is {number}.\")"
      ]
    },
    {
      "cell_type": "markdown",
      "id": "92a8e770",
      "metadata": {
        "id": "92a8e770"
      },
      "source": [
        "### ✅ Task 13: String Operations\n",
        "Set a variable `text = \"Python Programming\"`\n",
        "Perform and print the results for:\n",
        "- Converting to uppercase\n",
        "- Converting to lowercase\n",
        "- Replacing \"Python\" with \"Java\"\n",
        "- Slicing to get the word \"Programming\""
      ]
    },
    {
      "cell_type": "code",
      "execution_count": null,
      "id": "836c4a5e",
      "metadata": {
        "colab": {
          "base_uri": "https://localhost:8080/"
        },
        "id": "836c4a5e",
        "outputId": "6be56687-a4df-4fd5-863a-e59226e853ab"
      },
      "outputs": [
        {
          "output_type": "stream",
          "name": "stdout",
          "text": [
            "Python Programming\n",
            "PYTHON PROGRAMMING\n",
            "python programming\n",
            "Java Programming\n",
            "Programming\n"
          ]
        }
      ],
      "source": [
        "text = \"Python Programming\"\n",
        "print(text)\n",
        "print(text.upper())\n",
        "print(text.lower())\n",
        "print(text.replace(\"Python\", \"Java\"))\n",
        "print(text[7:])"
      ]
    },
    {
      "cell_type": "markdown",
      "id": "a30bfa5f",
      "metadata": {
        "id": "a30bfa5f"
      },
      "source": [
        "### ✅ Task 14: String Formatting\n",
        "Create variables `name = \"Ali\"` and `score = 95`\n",
        "Print a formatted string like: `\"Ali scored 95 marks\"` using f-string."
      ]
    },
    {
      "cell_type": "code",
      "execution_count": null,
      "id": "af8254c3",
      "metadata": {
        "colab": {
          "base_uri": "https://localhost:8080/"
        },
        "id": "af8254c3",
        "outputId": "41cfaaee-b00e-4b16-a74b-a2506a860de9"
      },
      "outputs": [
        {
          "output_type": "stream",
          "name": "stdout",
          "text": [
            "Ali scored 95 marks.\n"
          ]
        }
      ],
      "source": [
        "name = \"Ali\"\n",
        "score = 95\n",
        "print(f\"{name} scored {score} marks.\")"
      ]
    },
    {
      "cell_type": "markdown",
      "id": "0ab3d259",
      "metadata": {
        "id": "0ab3d259"
      },
      "source": [
        "### ✅ Task 15: Escape Characters\n",
        "Print the sentence:\n",
        "`She said, \"Python is awesome!\"` on one line.\n",
        "Then print a two-line output:\n",
        "`Line 1`\n",
        "`Line 2` using `\\n`."
      ]
    },
    {
      "cell_type": "code",
      "execution_count": null,
      "id": "53cb851a",
      "metadata": {
        "colab": {
          "base_uri": "https://localhost:8080/"
        },
        "id": "53cb851a",
        "outputId": "25f9f952-e153-4b93-e177-dd4fe33780d7"
      },
      "outputs": [
        {
          "output_type": "stream",
          "name": "stdout",
          "text": [
            "She said\", \"Python is awesome!\n",
            "She said \n",
            "Python is awesome!\n"
          ]
        }
      ],
      "source": [
        "print('She said\", \"Python is awesome!')\n",
        "print(\"She said \\nPython is awesome!\")"
      ]
    },
    {
      "cell_type": "markdown",
      "id": "d6128e9d",
      "metadata": {
        "id": "d6128e9d"
      },
      "source": [
        "### ✅ Task 16: String Length and Membership\n",
        "Set `word = \"HelloWorld\"`\n",
        "Print the length of the string.\n",
        "Check if \"World\" is in the word, and print the result."
      ]
    },
    {
      "cell_type": "code",
      "execution_count": null,
      "id": "934a1a6b",
      "metadata": {
        "colab": {
          "base_uri": "https://localhost:8080/"
        },
        "id": "934a1a6b",
        "outputId": "f646b12c-c441-4754-98f0-8db6ea4bb630"
      },
      "outputs": [
        {
          "output_type": "stream",
          "name": "stdout",
          "text": [
            "String Length:  10\n",
            "True\n"
          ]
        }
      ],
      "source": [
        "word = \"HelloWorld\"\n",
        "print('String Length: ', len(word))\n",
        "print(\"World\" in word)"
      ]
    }
  ],
  "metadata": {
    "colab": {
      "provenance": [],
      "include_colab_link": true
    },
    "language_info": {
      "name": "python"
    },
    "kernelspec": {
      "name": "python3",
      "display_name": "Python 3"
    }
  },
  "nbformat": 4,
  "nbformat_minor": 5
}